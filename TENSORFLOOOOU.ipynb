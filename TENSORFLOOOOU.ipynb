{
  "nbformat": 4,
  "nbformat_minor": 0,
  "metadata": {
    "colab": {
      "name": "TENSORFLOOOOU.ipynb",
      "provenance": [],
      "authorship_tag": "ABX9TyPe0ed4a/eOlSpvbH6FxYvk",
      "include_colab_link": true
    },
    "kernelspec": {
      "name": "python3",
      "display_name": "Python 3"
    }
  },
  "cells": [
    {
      "cell_type": "markdown",
      "metadata": {
        "id": "view-in-github",
        "colab_type": "text"
      },
      "source": [
        "<a href=\"https://colab.research.google.com/github/felipemanfrin/NLP/blob/master/TENSORFLOOOOU.ipynb\" target=\"_parent\"><img src=\"https://colab.research.google.com/assets/colab-badge.svg\" alt=\"Open In Colab\"/></a>"
      ]
    },
    {
      "cell_type": "code",
      "metadata": {
        "id": "uDMxS4wgj-wX"
      },
      "source": [
        "!pip install tensorflow\n"
      ],
      "execution_count": null,
      "outputs": []
    },
    {
      "cell_type": "code",
      "metadata": {
        "id": "wKFQjER9kEeR",
        "outputId": "43fbd2ec-7f6d-425c-ffeb-5a5a09c73bd0",
        "colab": {
          "base_uri": "https://localhost:8080/",
          "height": 34
        }
      },
      "source": [
        "import tensorflow as tf\n",
        "print (tf.__version__)"
      ],
      "execution_count": null,
      "outputs": [
        {
          "output_type": "stream",
          "text": [
            "2.3.0\n"
          ],
          "name": "stdout"
        }
      ]
    },
    {
      "cell_type": "code",
      "metadata": {
        "id": "bB0od_UekO2A"
      },
      "source": [
        "!pip install keras\n"
      ],
      "execution_count": null,
      "outputs": []
    },
    {
      "cell_type": "code",
      "metadata": {
        "id": "6qDIghLgp-Ml"
      },
      "source": [
        "!pip install sklearn"
      ],
      "execution_count": null,
      "outputs": []
    },
    {
      "cell_type": "code",
      "metadata": {
        "id": "cGfb-4c_qDs5"
      },
      "source": [
        "!pip install pandas\n"
      ],
      "execution_count": null,
      "outputs": []
    },
    {
      "cell_type": "code",
      "metadata": {
        "id": "WFk9khvyqIV-"
      },
      "source": [
        "!pip install numpy\n"
      ],
      "execution_count": null,
      "outputs": []
    },
    {
      "cell_type": "code",
      "metadata": {
        "id": "gXxfjj2JqNIX"
      },
      "source": [
        "import numpy as np\n",
        "from sklearn.datasets import load_iris\n"
      ],
      "execution_count": 1,
      "outputs": []
    },
    {
      "cell_type": "code",
      "metadata": {
        "id": "FQy0guiKsZNZ"
      },
      "source": [
        "iris = load_iris()"
      ],
      "execution_count": 2,
      "outputs": []
    },
    {
      "cell_type": "code",
      "metadata": {
        "id": "0FzDgE3cseDV",
        "outputId": "b5a678b5-2873-4132-9607-5539846b3697",
        "colab": {
          "base_uri": "https://localhost:8080/"
        }
      },
      "source": [
        "type(iris)"
      ],
      "execution_count": 3,
      "outputs": [
        {
          "output_type": "execute_result",
          "data": {
            "text/plain": [
              "sklearn.utils.Bunch"
            ]
          },
          "metadata": {
            "tags": []
          },
          "execution_count": 3
        }
      ]
    },
    {
      "cell_type": "code",
      "metadata": {
        "id": "gjaGxjFHsf-q",
        "outputId": "a4bd3698-fc90-4778-8457-1010611b6226",
        "colab": {
          "base_uri": "https://localhost:8080/"
        }
      },
      "source": [
        "print(iris.DESCR)"
      ],
      "execution_count": 4,
      "outputs": [
        {
          "output_type": "stream",
          "text": [
            ".. _iris_dataset:\n",
            "\n",
            "Iris plants dataset\n",
            "--------------------\n",
            "\n",
            "**Data Set Characteristics:**\n",
            "\n",
            "    :Number of Instances: 150 (50 in each of three classes)\n",
            "    :Number of Attributes: 4 numeric, predictive attributes and the class\n",
            "    :Attribute Information:\n",
            "        - sepal length in cm\n",
            "        - sepal width in cm\n",
            "        - petal length in cm\n",
            "        - petal width in cm\n",
            "        - class:\n",
            "                - Iris-Setosa\n",
            "                - Iris-Versicolour\n",
            "                - Iris-Virginica\n",
            "                \n",
            "    :Summary Statistics:\n",
            "\n",
            "    ============== ==== ==== ======= ===== ====================\n",
            "                    Min  Max   Mean    SD   Class Correlation\n",
            "    ============== ==== ==== ======= ===== ====================\n",
            "    sepal length:   4.3  7.9   5.84   0.83    0.7826\n",
            "    sepal width:    2.0  4.4   3.05   0.43   -0.4194\n",
            "    petal length:   1.0  6.9   3.76   1.76    0.9490  (high!)\n",
            "    petal width:    0.1  2.5   1.20   0.76    0.9565  (high!)\n",
            "    ============== ==== ==== ======= ===== ====================\n",
            "\n",
            "    :Missing Attribute Values: None\n",
            "    :Class Distribution: 33.3% for each of 3 classes.\n",
            "    :Creator: R.A. Fisher\n",
            "    :Donor: Michael Marshall (MARSHALL%PLU@io.arc.nasa.gov)\n",
            "    :Date: July, 1988\n",
            "\n",
            "The famous Iris database, first used by Sir R.A. Fisher. The dataset is taken\n",
            "from Fisher's paper. Note that it's the same as in R, but not as in the UCI\n",
            "Machine Learning Repository, which has two wrong data points.\n",
            "\n",
            "This is perhaps the best known database to be found in the\n",
            "pattern recognition literature.  Fisher's paper is a classic in the field and\n",
            "is referenced frequently to this day.  (See Duda & Hart, for example.)  The\n",
            "data set contains 3 classes of 50 instances each, where each class refers to a\n",
            "type of iris plant.  One class is linearly separable from the other 2; the\n",
            "latter are NOT linearly separable from each other.\n",
            "\n",
            ".. topic:: References\n",
            "\n",
            "   - Fisher, R.A. \"The use of multiple measurements in taxonomic problems\"\n",
            "     Annual Eugenics, 7, Part II, 179-188 (1936); also in \"Contributions to\n",
            "     Mathematical Statistics\" (John Wiley, NY, 1950).\n",
            "   - Duda, R.O., & Hart, P.E. (1973) Pattern Classification and Scene Analysis.\n",
            "     (Q327.D83) John Wiley & Sons.  ISBN 0-471-22361-1.  See page 218.\n",
            "   - Dasarathy, B.V. (1980) \"Nosing Around the Neighborhood: A New System\n",
            "     Structure and Classification Rule for Recognition in Partially Exposed\n",
            "     Environments\".  IEEE Transactions on Pattern Analysis and Machine\n",
            "     Intelligence, Vol. PAMI-2, No. 1, 67-71.\n",
            "   - Gates, G.W. (1972) \"The Reduced Nearest Neighbor Rule\".  IEEE Transactions\n",
            "     on Information Theory, May 1972, 431-433.\n",
            "   - See also: 1988 MLC Proceedings, 54-64.  Cheeseman et al\"s AUTOCLASS II\n",
            "     conceptual clustering system finds 3 classes in the data.\n",
            "   - Many, many more ...\n"
          ],
          "name": "stdout"
        }
      ]
    },
    {
      "cell_type": "code",
      "metadata": {
        "id": "6HV9exxMswin"
      },
      "source": [
        "X = iris.data"
      ],
      "execution_count": 5,
      "outputs": []
    },
    {
      "cell_type": "code",
      "metadata": {
        "id": "pCPGm6L56Q2B"
      },
      "source": [
        "y = iris.target"
      ],
      "execution_count": 6,
      "outputs": []
    },
    {
      "cell_type": "code",
      "metadata": {
        "id": "lVajiXQM6UVr",
        "outputId": "d1ae6104-b8cc-4f19-f6ec-a311bfafd13e",
        "colab": {
          "base_uri": "https://localhost:8080/"
        }
      },
      "source": [
        "y"
      ],
      "execution_count": 7,
      "outputs": [
        {
          "output_type": "execute_result",
          "data": {
            "text/plain": [
              "array([0, 0, 0, 0, 0, 0, 0, 0, 0, 0, 0, 0, 0, 0, 0, 0, 0, 0, 0, 0, 0, 0,\n",
              "       0, 0, 0, 0, 0, 0, 0, 0, 0, 0, 0, 0, 0, 0, 0, 0, 0, 0, 0, 0, 0, 0,\n",
              "       0, 0, 0, 0, 0, 0, 1, 1, 1, 1, 1, 1, 1, 1, 1, 1, 1, 1, 1, 1, 1, 1,\n",
              "       1, 1, 1, 1, 1, 1, 1, 1, 1, 1, 1, 1, 1, 1, 1, 1, 1, 1, 1, 1, 1, 1,\n",
              "       1, 1, 1, 1, 1, 1, 1, 1, 1, 1, 1, 1, 2, 2, 2, 2, 2, 2, 2, 2, 2, 2,\n",
              "       2, 2, 2, 2, 2, 2, 2, 2, 2, 2, 2, 2, 2, 2, 2, 2, 2, 2, 2, 2, 2, 2,\n",
              "       2, 2, 2, 2, 2, 2, 2, 2, 2, 2, 2, 2, 2, 2, 2, 2, 2, 2])"
            ]
          },
          "metadata": {
            "tags": []
          },
          "execution_count": 7
        }
      ]
    },
    {
      "cell_type": "code",
      "metadata": {
        "id": "Ks6pZ6j06VYS"
      },
      "source": [
        "from keras.utils import to_categorical"
      ],
      "execution_count": 8,
      "outputs": []
    },
    {
      "cell_type": "code",
      "metadata": {
        "id": "3KI_abpf60ZS"
      },
      "source": [
        "y = to_categorical(y)"
      ],
      "execution_count": 9,
      "outputs": []
    },
    {
      "cell_type": "code",
      "metadata": {
        "id": "xgVqliP96_uO",
        "outputId": "18848ff5-9381-47b0-b427-eb158fdd703d",
        "colab": {
          "base_uri": "https://localhost:8080/"
        }
      },
      "source": [
        "y.shape"
      ],
      "execution_count": 10,
      "outputs": [
        {
          "output_type": "execute_result",
          "data": {
            "text/plain": [
              "(150, 3)"
            ]
          },
          "metadata": {
            "tags": []
          },
          "execution_count": 10
        }
      ]
    },
    {
      "cell_type": "code",
      "metadata": {
        "id": "1YeQlEvz7Ax4"
      },
      "source": [
        "#y"
      ],
      "execution_count": 11,
      "outputs": []
    },
    {
      "cell_type": "code",
      "metadata": {
        "id": "EtBHqz1m--zL"
      },
      "source": [
        "from sklearn.model_selection import train_test_split"
      ],
      "execution_count": 12,
      "outputs": []
    },
    {
      "cell_type": "code",
      "metadata": {
        "id": "-Mi-4AYy_bo3"
      },
      "source": [
        "X_train, X_test, y_train, y_test = train_test_split(X, y, test_size=0.33, random_state=42)"
      ],
      "execution_count": 13,
      "outputs": []
    },
    {
      "cell_type": "code",
      "metadata": {
        "id": "qjg-CjgIAUn3"
      },
      "source": [
        "#y_train"
      ],
      "execution_count": 14,
      "outputs": []
    },
    {
      "cell_type": "code",
      "metadata": {
        "id": "ms77-yRgAdFq"
      },
      "source": [
        "from sklearn.preprocessing import MinMaxScaler"
      ],
      "execution_count": 15,
      "outputs": []
    },
    {
      "cell_type": "code",
      "metadata": {
        "id": "gJBlGB28AywL"
      },
      "source": [
        "#np.array([5, 10, 15, 20])/20"
      ],
      "execution_count": 16,
      "outputs": []
    },
    {
      "cell_type": "code",
      "metadata": {
        "id": "eqrMEgKCBKlp"
      },
      "source": [
        "scaler_object = MinMaxScaler()"
      ],
      "execution_count": 17,
      "outputs": []
    },
    {
      "cell_type": "code",
      "metadata": {
        "id": "KKAKypV2BOTv",
        "outputId": "0dbacbaa-d8b0-456e-9f6b-936de24b0dea",
        "colab": {
          "base_uri": "https://localhost:8080/"
        }
      },
      "source": [
        "scaler_object.fit(X_train)"
      ],
      "execution_count": 18,
      "outputs": [
        {
          "output_type": "execute_result",
          "data": {
            "text/plain": [
              "MinMaxScaler(copy=True, feature_range=(0, 1))"
            ]
          },
          "metadata": {
            "tags": []
          },
          "execution_count": 18
        }
      ]
    },
    {
      "cell_type": "code",
      "metadata": {
        "id": "q0cr3Q7xBTkE"
      },
      "source": [
        "scaled_X_train = scaler_object.transform(X_train)"
      ],
      "execution_count": 19,
      "outputs": []
    },
    {
      "cell_type": "code",
      "metadata": {
        "id": "wz1nuDB_Bg94"
      },
      "source": [
        "scaled_X_test = scaler_object.transform(X_test)"
      ],
      "execution_count": 20,
      "outputs": []
    },
    {
      "cell_type": "code",
      "metadata": {
        "id": "9UPfCWmzBm42",
        "outputId": "74d6d853-2c23-4eb8-ad19-9855323efa7e",
        "colab": {
          "base_uri": "https://localhost:8080/"
        }
      },
      "source": [
        "scaled_X_train"
      ],
      "execution_count": 21,
      "outputs": [
        {
          "output_type": "execute_result",
          "data": {
            "text/plain": [
              "array([[0.41176471, 0.40909091, 0.55357143, 0.5       ],\n",
              "       [0.97058824, 0.45454545, 0.98214286, 0.83333333],\n",
              "       [0.38235294, 0.45454545, 0.60714286, 0.58333333],\n",
              "       [0.23529412, 0.68181818, 0.05357143, 0.04166667],\n",
              "       [1.        , 0.36363636, 1.        , 0.79166667],\n",
              "       [0.44117647, 0.31818182, 0.53571429, 0.375     ],\n",
              "       [0.26470588, 0.63636364, 0.05357143, 0.04166667],\n",
              "       [0.20588235, 0.68181818, 0.03571429, 0.08333333],\n",
              "       [0.23529412, 0.81818182, 0.14285714, 0.125     ],\n",
              "       [0.20588235, 0.        , 0.42857143, 0.375     ],\n",
              "       [0.58823529, 0.31818182, 0.67857143, 0.70833333],\n",
              "       [0.14705882, 0.63636364, 0.14285714, 0.04166667],\n",
              "       [0.20588235, 0.45454545, 0.08928571, 0.04166667],\n",
              "       [0.23529412, 0.59090909, 0.10714286, 0.16666667],\n",
              "       [0.38235294, 0.31818182, 0.55357143, 0.5       ],\n",
              "       [0.23529412, 0.63636364, 0.07142857, 0.04166667],\n",
              "       [0.41176471, 0.45454545, 0.55357143, 0.45833333],\n",
              "       [1.        , 0.81818182, 1.        , 0.875     ],\n",
              "       [0.08823529, 0.54545455, 0.05357143, 0.04166667],\n",
              "       [0.55882353, 0.40909091, 0.57142857, 0.5       ],\n",
              "       [0.41176471, 0.22727273, 0.69642857, 0.79166667],\n",
              "       [0.35294118, 1.        , 0.05357143, 0.04166667],\n",
              "       [0.5       , 0.45454545, 0.66071429, 0.70833333],\n",
              "       [0.44117647, 0.31818182, 0.71428571, 0.75      ],\n",
              "       [0.5       , 0.09090909, 0.51785714, 0.375     ],\n",
              "       [0.32352941, 0.45454545, 0.60714286, 0.58333333],\n",
              "       [0.55882353, 0.63636364, 0.76785714, 0.91666667],\n",
              "       [0.35294118, 0.13636364, 0.51785714, 0.5       ],\n",
              "       [0.32352941, 0.86363636, 0.10714286, 0.125     ],\n",
              "       [0.20588235, 0.13636364, 0.39285714, 0.375     ],\n",
              "       [0.61764706, 0.31818182, 0.75      , 0.75      ],\n",
              "       [0.20588235, 0.59090909, 0.05357143, 0.04166667],\n",
              "       [0.20588235, 0.54545455, 0.01785714, 0.04166667],\n",
              "       [0.35294118, 0.18181818, 0.48214286, 0.41666667],\n",
              "       [0.70588235, 0.45454545, 0.69642857, 0.66666667],\n",
              "       [0.17647059, 0.5       , 0.07142857, 0.04166667],\n",
              "       [0.44117647, 0.36363636, 0.71428571, 0.95833333],\n",
              "       [0.20588235, 0.63636364, 0.07142857, 0.04166667],\n",
              "       [0.20588235, 0.68181818, 0.08928571, 0.20833333],\n",
              "       [0.47058824, 0.54545455, 0.66071429, 0.70833333],\n",
              "       [0.23529412, 0.22727273, 0.33928571, 0.41666667],\n",
              "       [0.76470588, 0.54545455, 0.82142857, 0.91666667],\n",
              "       [0.5       , 0.31818182, 0.71428571, 0.625     ],\n",
              "       [0.52941176, 0.27272727, 0.80357143, 0.54166667],\n",
              "       [1.        , 0.45454545, 0.89285714, 0.91666667],\n",
              "       [0.35294118, 0.22727273, 0.51785714, 0.5       ],\n",
              "       [0.02941176, 0.40909091, 0.05357143, 0.04166667],\n",
              "       [0.        , 0.45454545, 0.        , 0.        ],\n",
              "       [0.5       , 0.09090909, 0.69642857, 0.58333333],\n",
              "       [0.85294118, 0.54545455, 0.875     , 0.70833333],\n",
              "       [0.08823529, 0.5       , 0.07142857, 0.04166667],\n",
              "       [0.23529412, 0.68181818, 0.05357143, 0.08333333],\n",
              "       [0.02941176, 0.45454545, 0.03571429, 0.04166667],\n",
              "       [0.58823529, 0.22727273, 0.67857143, 0.58333333],\n",
              "       [0.58823529, 0.63636364, 0.80357143, 0.95833333],\n",
              "       [0.08823529, 0.63636364, 0.05357143, 0.08333333],\n",
              "       [0.73529412, 0.45454545, 0.78571429, 0.83333333],\n",
              "       [0.58823529, 0.59090909, 0.875     , 1.        ],\n",
              "       [0.11764706, 0.54545455, 0.03571429, 0.04166667],\n",
              "       [0.52941176, 0.40909091, 0.64285714, 0.54166667],\n",
              "       [0.64705882, 0.36363636, 0.625     , 0.58333333],\n",
              "       [0.55882353, 0.36363636, 0.66071429, 0.70833333],\n",
              "       [0.79411765, 0.54545455, 0.64285714, 0.54166667],\n",
              "       [0.61764706, 0.54545455, 0.75      , 0.91666667],\n",
              "       [0.23529412, 0.81818182, 0.08928571, 0.04166667],\n",
              "       [0.76470588, 0.5       , 0.76785714, 0.83333333],\n",
              "       [0.47058824, 0.45454545, 0.55357143, 0.58333333],\n",
              "       [0.64705882, 0.45454545, 0.73214286, 0.79166667],\n",
              "       [0.41176471, 0.27272727, 0.42857143, 0.375     ],\n",
              "       [0.26470588, 0.31818182, 0.5       , 0.54166667],\n",
              "       [0.52941176, 0.45454545, 0.625     , 0.54166667],\n",
              "       [0.05882353, 0.13636364, 0.03571429, 0.08333333],\n",
              "       [0.67647059, 0.40909091, 0.625     , 0.5       ],\n",
              "       [0.35294118, 0.27272727, 0.58928571, 0.45833333],\n",
              "       [0.29411765, 0.77272727, 0.07142857, 0.04166667],\n",
              "       [0.38235294, 0.45454545, 0.53571429, 0.5       ],\n",
              "       [0.88235294, 0.40909091, 0.92857143, 0.70833333],\n",
              "       [0.70588235, 0.59090909, 0.82142857, 0.83333333],\n",
              "       [0.23529412, 0.77272727, 0.07142857, 0.125     ],\n",
              "       [0.17647059, 0.18181818, 0.39285714, 0.375     ],\n",
              "       [0.70588235, 0.59090909, 0.82142857, 1.        ],\n",
              "       [0.85294118, 0.45454545, 0.83928571, 0.625     ],\n",
              "       [0.17647059, 0.72727273, 0.05357143, 0.        ],\n",
              "       [0.70588235, 0.5       , 0.80357143, 0.95833333],\n",
              "       [0.17647059, 0.45454545, 0.05357143, 0.04166667],\n",
              "       [0.76470588, 0.5       , 0.67857143, 0.58333333],\n",
              "       [0.91176471, 0.36363636, 0.89285714, 0.75      ],\n",
              "       [0.58823529, 0.40909091, 0.80357143, 0.70833333],\n",
              "       [0.41176471, 0.36363636, 0.53571429, 0.5       ],\n",
              "       [0.64705882, 0.45454545, 0.78571429, 0.70833333],\n",
              "       [0.58823529, 0.13636364, 0.58928571, 0.5       ],\n",
              "       [0.61764706, 0.40909091, 0.57142857, 0.5       ],\n",
              "       [0.38235294, 0.36363636, 0.67857143, 0.79166667],\n",
              "       [0.47058824, 0.45454545, 0.71428571, 0.70833333],\n",
              "       [0.32352941, 0.63636364, 0.10714286, 0.04166667],\n",
              "       [0.52941176, 0.36363636, 0.51785714, 0.5       ],\n",
              "       [0.17647059, 0.22727273, 0.60714286, 0.66666667],\n",
              "       [0.44117647, 0.90909091, 0.01785714, 0.04166667],\n",
              "       [0.44117647, 0.27272727, 0.51785714, 0.45833333],\n",
              "       [0.82352941, 0.45454545, 0.85714286, 0.83333333]])"
            ]
          },
          "metadata": {
            "tags": []
          },
          "execution_count": 21
        }
      ]
    },
    {
      "cell_type": "code",
      "metadata": {
        "id": "mmWsZ9pHBppH"
      },
      "source": [
        "from keras.models import Sequential\n",
        "from keras.layers import  Dense"
      ],
      "execution_count": 22,
      "outputs": []
    },
    {
      "cell_type": "code",
      "metadata": {
        "id": "ASnVY9v9Dk-h"
      },
      "source": [
        "model = Sequential()\n",
        "model.add(Dense(8, input_dim=4, activation='relu'))\n",
        "model.add(Dense(8, input_dim=4, activation='relu'))\n",
        "model.add(Dense(3, activation='softmax'))\n",
        "model.compile(loss='categorical_crossentropy', optimizer='adam', metrics=['accuracy'])"
      ],
      "execution_count": 23,
      "outputs": []
    },
    {
      "cell_type": "code",
      "metadata": {
        "id": "JAbXS8tuEhSK",
        "outputId": "63e5aebe-9753-4453-b1df-65cc780d9f19",
        "colab": {
          "base_uri": "https://localhost:8080/"
        }
      },
      "source": [
        "model.summary()"
      ],
      "execution_count": 24,
      "outputs": [
        {
          "output_type": "stream",
          "text": [
            "Model: \"sequential\"\n",
            "_________________________________________________________________\n",
            "Layer (type)                 Output Shape              Param #   \n",
            "=================================================================\n",
            "dense (Dense)                (None, 8)                 40        \n",
            "_________________________________________________________________\n",
            "dense_1 (Dense)              (None, 8)                 72        \n",
            "_________________________________________________________________\n",
            "dense_2 (Dense)              (None, 3)                 27        \n",
            "=================================================================\n",
            "Total params: 139\n",
            "Trainable params: 139\n",
            "Non-trainable params: 0\n",
            "_________________________________________________________________\n"
          ],
          "name": "stdout"
        }
      ]
    },
    {
      "cell_type": "code",
      "metadata": {
        "id": "hfT57Y4GEkdL",
        "outputId": "b5932d2f-7a4e-4aa1-dda3-c62a4e1f263e",
        "colab": {
          "base_uri": "https://localhost:8080/"
        }
      },
      "source": [
        "model.fit(scaled_X_train, y_train, epochs=150, verbose=2)"
      ],
      "execution_count": 25,
      "outputs": [
        {
          "output_type": "stream",
          "text": [
            "Epoch 1/150\n",
            "4/4 - 0s - loss: 1.1866 - accuracy: 0.3100\n",
            "Epoch 2/150\n",
            "4/4 - 0s - loss: 1.1749 - accuracy: 0.3100\n",
            "Epoch 3/150\n",
            "4/4 - 0s - loss: 1.1653 - accuracy: 0.3100\n",
            "Epoch 4/150\n",
            "4/4 - 0s - loss: 1.1562 - accuracy: 0.3100\n",
            "Epoch 5/150\n",
            "4/4 - 0s - loss: 1.1479 - accuracy: 0.3000\n",
            "Epoch 6/150\n",
            "4/4 - 0s - loss: 1.1393 - accuracy: 0.3000\n",
            "Epoch 7/150\n",
            "4/4 - 0s - loss: 1.1323 - accuracy: 0.3000\n",
            "Epoch 8/150\n",
            "4/4 - 0s - loss: 1.1245 - accuracy: 0.3000\n",
            "Epoch 9/150\n",
            "4/4 - 0s - loss: 1.1180 - accuracy: 0.3000\n",
            "Epoch 10/150\n",
            "4/4 - 0s - loss: 1.1121 - accuracy: 0.3000\n",
            "Epoch 11/150\n",
            "4/4 - 0s - loss: 1.1060 - accuracy: 0.3000\n",
            "Epoch 12/150\n",
            "4/4 - 0s - loss: 1.1003 - accuracy: 0.3000\n",
            "Epoch 13/150\n",
            "4/4 - 0s - loss: 1.0946 - accuracy: 0.3000\n",
            "Epoch 14/150\n",
            "4/4 - 0s - loss: 1.0890 - accuracy: 0.3000\n",
            "Epoch 15/150\n",
            "4/4 - 0s - loss: 1.0835 - accuracy: 0.3000\n",
            "Epoch 16/150\n",
            "4/4 - 0s - loss: 1.0782 - accuracy: 0.3200\n",
            "Epoch 17/150\n",
            "4/4 - 0s - loss: 1.0732 - accuracy: 0.3400\n",
            "Epoch 18/150\n",
            "4/4 - 0s - loss: 1.0685 - accuracy: 0.3600\n",
            "Epoch 19/150\n",
            "4/4 - 0s - loss: 1.0639 - accuracy: 0.3700\n",
            "Epoch 20/150\n",
            "4/4 - 0s - loss: 1.0595 - accuracy: 0.4200\n",
            "Epoch 21/150\n",
            "4/4 - 0s - loss: 1.0547 - accuracy: 0.4800\n",
            "Epoch 22/150\n",
            "4/4 - 0s - loss: 1.0501 - accuracy: 0.5100\n",
            "Epoch 23/150\n",
            "4/4 - 0s - loss: 1.0450 - accuracy: 0.5300\n",
            "Epoch 24/150\n",
            "4/4 - 0s - loss: 1.0402 - accuracy: 0.5400\n",
            "Epoch 25/150\n",
            "4/4 - 0s - loss: 1.0352 - accuracy: 0.5200\n",
            "Epoch 26/150\n",
            "4/4 - 0s - loss: 1.0300 - accuracy: 0.4300\n",
            "Epoch 27/150\n",
            "4/4 - 0s - loss: 1.0249 - accuracy: 0.4100\n",
            "Epoch 28/150\n",
            "4/4 - 0s - loss: 1.0197 - accuracy: 0.4500\n",
            "Epoch 29/150\n",
            "4/4 - 0s - loss: 1.0145 - accuracy: 0.4700\n",
            "Epoch 30/150\n",
            "4/4 - 0s - loss: 1.0094 - accuracy: 0.4800\n",
            "Epoch 31/150\n",
            "4/4 - 0s - loss: 1.0042 - accuracy: 0.4900\n",
            "Epoch 32/150\n",
            "4/4 - 0s - loss: 0.9986 - accuracy: 0.5200\n",
            "Epoch 33/150\n",
            "4/4 - 0s - loss: 0.9925 - accuracy: 0.5500\n",
            "Epoch 34/150\n",
            "4/4 - 0s - loss: 0.9864 - accuracy: 0.6200\n",
            "Epoch 35/150\n",
            "4/4 - 0s - loss: 0.9800 - accuracy: 0.6500\n",
            "Epoch 36/150\n",
            "4/4 - 0s - loss: 0.9736 - accuracy: 0.6500\n",
            "Epoch 37/150\n",
            "4/4 - 0s - loss: 0.9670 - accuracy: 0.6500\n",
            "Epoch 38/150\n",
            "4/4 - 0s - loss: 0.9601 - accuracy: 0.6500\n",
            "Epoch 39/150\n",
            "4/4 - 0s - loss: 0.9524 - accuracy: 0.6500\n",
            "Epoch 40/150\n",
            "4/4 - 0s - loss: 0.9450 - accuracy: 0.6500\n",
            "Epoch 41/150\n",
            "4/4 - 0s - loss: 0.9371 - accuracy: 0.6500\n",
            "Epoch 42/150\n",
            "4/4 - 0s - loss: 0.9279 - accuracy: 0.6500\n",
            "Epoch 43/150\n",
            "4/4 - 0s - loss: 0.9187 - accuracy: 0.6500\n",
            "Epoch 44/150\n",
            "4/4 - 0s - loss: 0.9091 - accuracy: 0.6500\n",
            "Epoch 45/150\n",
            "4/4 - 0s - loss: 0.8992 - accuracy: 0.6500\n",
            "Epoch 46/150\n",
            "4/4 - 0s - loss: 0.8891 - accuracy: 0.6500\n",
            "Epoch 47/150\n",
            "4/4 - 0s - loss: 0.8793 - accuracy: 0.6500\n",
            "Epoch 48/150\n",
            "4/4 - 0s - loss: 0.8695 - accuracy: 0.6500\n",
            "Epoch 49/150\n",
            "4/4 - 0s - loss: 0.8598 - accuracy: 0.6500\n",
            "Epoch 50/150\n",
            "4/4 - 0s - loss: 0.8505 - accuracy: 0.6500\n",
            "Epoch 51/150\n",
            "4/4 - 0s - loss: 0.8408 - accuracy: 0.6500\n",
            "Epoch 52/150\n",
            "4/4 - 0s - loss: 0.8312 - accuracy: 0.6500\n",
            "Epoch 53/150\n",
            "4/4 - 0s - loss: 0.8209 - accuracy: 0.6500\n",
            "Epoch 54/150\n",
            "4/4 - 0s - loss: 0.8113 - accuracy: 0.6500\n",
            "Epoch 55/150\n",
            "4/4 - 0s - loss: 0.8014 - accuracy: 0.6500\n",
            "Epoch 56/150\n",
            "4/4 - 0s - loss: 0.7918 - accuracy: 0.6500\n",
            "Epoch 57/150\n",
            "4/4 - 0s - loss: 0.7820 - accuracy: 0.6500\n",
            "Epoch 58/150\n",
            "4/4 - 0s - loss: 0.7729 - accuracy: 0.6500\n",
            "Epoch 59/150\n",
            "4/4 - 0s - loss: 0.7639 - accuracy: 0.6500\n",
            "Epoch 60/150\n",
            "4/4 - 0s - loss: 0.7548 - accuracy: 0.6500\n",
            "Epoch 61/150\n",
            "4/4 - 0s - loss: 0.7460 - accuracy: 0.6500\n",
            "Epoch 62/150\n",
            "4/4 - 0s - loss: 0.7373 - accuracy: 0.6500\n",
            "Epoch 63/150\n",
            "4/4 - 0s - loss: 0.7291 - accuracy: 0.6500\n",
            "Epoch 64/150\n",
            "4/4 - 0s - loss: 0.7209 - accuracy: 0.6500\n",
            "Epoch 65/150\n",
            "4/4 - 0s - loss: 0.7128 - accuracy: 0.6500\n",
            "Epoch 66/150\n",
            "4/4 - 0s - loss: 0.7049 - accuracy: 0.6500\n",
            "Epoch 67/150\n",
            "4/4 - 0s - loss: 0.6974 - accuracy: 0.6500\n",
            "Epoch 68/150\n",
            "4/4 - 0s - loss: 0.6901 - accuracy: 0.6500\n",
            "Epoch 69/150\n",
            "4/4 - 0s - loss: 0.6829 - accuracy: 0.6500\n",
            "Epoch 70/150\n",
            "4/4 - 0s - loss: 0.6761 - accuracy: 0.6500\n",
            "Epoch 71/150\n",
            "4/4 - 0s - loss: 0.6696 - accuracy: 0.6500\n",
            "Epoch 72/150\n",
            "4/4 - 0s - loss: 0.6631 - accuracy: 0.6500\n",
            "Epoch 73/150\n",
            "4/4 - 0s - loss: 0.6570 - accuracy: 0.6500\n",
            "Epoch 74/150\n",
            "4/4 - 0s - loss: 0.6509 - accuracy: 0.6500\n",
            "Epoch 75/150\n",
            "4/4 - 0s - loss: 0.6454 - accuracy: 0.6500\n",
            "Epoch 76/150\n",
            "4/4 - 0s - loss: 0.6399 - accuracy: 0.6500\n",
            "Epoch 77/150\n",
            "4/4 - 0s - loss: 0.6343 - accuracy: 0.6500\n",
            "Epoch 78/150\n",
            "4/4 - 0s - loss: 0.6291 - accuracy: 0.6500\n",
            "Epoch 79/150\n",
            "4/4 - 0s - loss: 0.6239 - accuracy: 0.6500\n",
            "Epoch 80/150\n",
            "4/4 - 0s - loss: 0.6188 - accuracy: 0.6500\n",
            "Epoch 81/150\n",
            "4/4 - 0s - loss: 0.6139 - accuracy: 0.6500\n",
            "Epoch 82/150\n",
            "4/4 - 0s - loss: 0.6094 - accuracy: 0.6500\n",
            "Epoch 83/150\n",
            "4/4 - 0s - loss: 0.6048 - accuracy: 0.6500\n",
            "Epoch 84/150\n",
            "4/4 - 0s - loss: 0.6004 - accuracy: 0.6500\n",
            "Epoch 85/150\n",
            "4/4 - 0s - loss: 0.5961 - accuracy: 0.6500\n",
            "Epoch 86/150\n",
            "4/4 - 0s - loss: 0.5922 - accuracy: 0.6500\n",
            "Epoch 87/150\n",
            "4/4 - 0s - loss: 0.5883 - accuracy: 0.6500\n",
            "Epoch 88/150\n",
            "4/4 - 0s - loss: 0.5845 - accuracy: 0.6500\n",
            "Epoch 89/150\n",
            "4/4 - 0s - loss: 0.5808 - accuracy: 0.6500\n",
            "Epoch 90/150\n",
            "4/4 - 0s - loss: 0.5772 - accuracy: 0.6500\n",
            "Epoch 91/150\n",
            "4/4 - 0s - loss: 0.5737 - accuracy: 0.6500\n",
            "Epoch 92/150\n",
            "4/4 - 0s - loss: 0.5704 - accuracy: 0.6500\n",
            "Epoch 93/150\n",
            "4/4 - 0s - loss: 0.5673 - accuracy: 0.6500\n",
            "Epoch 94/150\n",
            "4/4 - 0s - loss: 0.5642 - accuracy: 0.6500\n",
            "Epoch 95/150\n",
            "4/4 - 0s - loss: 0.5612 - accuracy: 0.6500\n",
            "Epoch 96/150\n",
            "4/4 - 0s - loss: 0.5582 - accuracy: 0.6500\n",
            "Epoch 97/150\n",
            "4/4 - 0s - loss: 0.5555 - accuracy: 0.6500\n",
            "Epoch 98/150\n",
            "4/4 - 0s - loss: 0.5529 - accuracy: 0.6500\n",
            "Epoch 99/150\n",
            "4/4 - 0s - loss: 0.5502 - accuracy: 0.6500\n",
            "Epoch 100/150\n",
            "4/4 - 0s - loss: 0.5478 - accuracy: 0.6500\n",
            "Epoch 101/150\n",
            "4/4 - 0s - loss: 0.5452 - accuracy: 0.6500\n",
            "Epoch 102/150\n",
            "4/4 - 0s - loss: 0.5429 - accuracy: 0.6500\n",
            "Epoch 103/150\n",
            "4/4 - 0s - loss: 0.5405 - accuracy: 0.6500\n",
            "Epoch 104/150\n",
            "4/4 - 0s - loss: 0.5383 - accuracy: 0.6500\n",
            "Epoch 105/150\n",
            "4/4 - 0s - loss: 0.5361 - accuracy: 0.6500\n",
            "Epoch 106/150\n",
            "4/4 - 0s - loss: 0.5340 - accuracy: 0.6500\n",
            "Epoch 107/150\n",
            "4/4 - 0s - loss: 0.5320 - accuracy: 0.6500\n",
            "Epoch 108/150\n",
            "4/4 - 0s - loss: 0.5304 - accuracy: 0.6500\n",
            "Epoch 109/150\n",
            "4/4 - 0s - loss: 0.5284 - accuracy: 0.6500\n",
            "Epoch 110/150\n",
            "4/4 - 0s - loss: 0.5265 - accuracy: 0.6500\n",
            "Epoch 111/150\n",
            "4/4 - 0s - loss: 0.5245 - accuracy: 0.6500\n",
            "Epoch 112/150\n",
            "4/4 - 0s - loss: 0.5231 - accuracy: 0.6500\n",
            "Epoch 113/150\n",
            "4/4 - 0s - loss: 0.5209 - accuracy: 0.6500\n",
            "Epoch 114/150\n",
            "4/4 - 0s - loss: 0.5194 - accuracy: 0.6500\n",
            "Epoch 115/150\n",
            "4/4 - 0s - loss: 0.5177 - accuracy: 0.6500\n",
            "Epoch 116/150\n",
            "4/4 - 0s - loss: 0.5165 - accuracy: 0.6500\n",
            "Epoch 117/150\n",
            "4/4 - 0s - loss: 0.5149 - accuracy: 0.6500\n",
            "Epoch 118/150\n",
            "4/4 - 0s - loss: 0.5133 - accuracy: 0.6500\n",
            "Epoch 119/150\n",
            "4/4 - 0s - loss: 0.5120 - accuracy: 0.6500\n",
            "Epoch 120/150\n",
            "4/4 - 0s - loss: 0.5103 - accuracy: 0.6500\n",
            "Epoch 121/150\n",
            "4/4 - 0s - loss: 0.5090 - accuracy: 0.6500\n",
            "Epoch 122/150\n",
            "4/4 - 0s - loss: 0.5077 - accuracy: 0.6500\n",
            "Epoch 123/150\n",
            "4/4 - 0s - loss: 0.5063 - accuracy: 0.6500\n",
            "Epoch 124/150\n",
            "4/4 - 0s - loss: 0.5051 - accuracy: 0.6500\n",
            "Epoch 125/150\n",
            "4/4 - 0s - loss: 0.5039 - accuracy: 0.6500\n",
            "Epoch 126/150\n",
            "4/4 - 0s - loss: 0.5026 - accuracy: 0.6500\n",
            "Epoch 127/150\n",
            "4/4 - 0s - loss: 0.5014 - accuracy: 0.6500\n",
            "Epoch 128/150\n",
            "4/4 - 0s - loss: 0.5003 - accuracy: 0.6500\n",
            "Epoch 129/150\n",
            "4/4 - 0s - loss: 0.4993 - accuracy: 0.6500\n",
            "Epoch 130/150\n",
            "4/4 - 0s - loss: 0.4981 - accuracy: 0.6500\n",
            "Epoch 131/150\n",
            "4/4 - 0s - loss: 0.4971 - accuracy: 0.6500\n",
            "Epoch 132/150\n",
            "4/4 - 0s - loss: 0.4959 - accuracy: 0.6500\n",
            "Epoch 133/150\n",
            "4/4 - 0s - loss: 0.4948 - accuracy: 0.6500\n",
            "Epoch 134/150\n",
            "4/4 - 0s - loss: 0.4938 - accuracy: 0.6500\n",
            "Epoch 135/150\n",
            "4/4 - 0s - loss: 0.4927 - accuracy: 0.6500\n",
            "Epoch 136/150\n",
            "4/4 - 0s - loss: 0.4916 - accuracy: 0.6500\n",
            "Epoch 137/150\n",
            "4/4 - 0s - loss: 0.4905 - accuracy: 0.6500\n",
            "Epoch 138/150\n",
            "4/4 - 0s - loss: 0.4895 - accuracy: 0.6500\n",
            "Epoch 139/150\n",
            "4/4 - 0s - loss: 0.4883 - accuracy: 0.6500\n",
            "Epoch 140/150\n",
            "4/4 - 0s - loss: 0.4877 - accuracy: 0.6500\n",
            "Epoch 141/150\n",
            "4/4 - 0s - loss: 0.4866 - accuracy: 0.6500\n",
            "Epoch 142/150\n",
            "4/4 - 0s - loss: 0.4858 - accuracy: 0.6500\n",
            "Epoch 143/150\n",
            "4/4 - 0s - loss: 0.4850 - accuracy: 0.6500\n",
            "Epoch 144/150\n",
            "4/4 - 0s - loss: 0.4842 - accuracy: 0.6500\n",
            "Epoch 145/150\n",
            "4/4 - 0s - loss: 0.4835 - accuracy: 0.6500\n",
            "Epoch 146/150\n",
            "4/4 - 0s - loss: 0.4827 - accuracy: 0.6500\n",
            "Epoch 147/150\n",
            "4/4 - 0s - loss: 0.4815 - accuracy: 0.6500\n",
            "Epoch 148/150\n",
            "4/4 - 0s - loss: 0.4807 - accuracy: 0.6500\n",
            "Epoch 149/150\n",
            "4/4 - 0s - loss: 0.4796 - accuracy: 0.6500\n",
            "Epoch 150/150\n",
            "4/4 - 0s - loss: 0.4786 - accuracy: 0.6500\n"
          ],
          "name": "stdout"
        },
        {
          "output_type": "execute_result",
          "data": {
            "text/plain": [
              "<tensorflow.python.keras.callbacks.History at 0x7fdbe31b3cc0>"
            ]
          },
          "metadata": {
            "tags": []
          },
          "execution_count": 25
        }
      ]
    },
    {
      "cell_type": "code",
      "metadata": {
        "id": "GGmTUvwuGKZM",
        "outputId": "3988d71f-39e8-4cde-8da4-0a6275dd46ca",
        "colab": {
          "base_uri": "https://localhost:8080/"
        }
      },
      "source": [
        "np.argmax(model.predict(scaled_X_test), axis=-1)"
      ],
      "execution_count": 30,
      "outputs": [
        {
          "output_type": "execute_result",
          "data": {
            "text/plain": [
              "array([2, 0, 2, 2, 2, 0, 2, 2, 2, 2, 2, 0, 0, 0, 0, 2, 2, 2, 2, 2, 0, 2,\n",
              "       0, 2, 2, 2, 2, 2, 0, 0, 0, 0, 2, 0, 0, 2, 2, 0, 0, 0, 2, 2, 2, 0,\n",
              "       0, 2, 2, 2, 2, 2])"
            ]
          },
          "metadata": {
            "tags": []
          },
          "execution_count": 30
        }
      ]
    },
    {
      "cell_type": "code",
      "metadata": {
        "id": "J6VG740DyAJK"
      },
      "source": [
        "predictions = model.predict_classes(scaled_X_test)"
      ],
      "execution_count": 31,
      "outputs": []
    },
    {
      "cell_type": "code",
      "metadata": {
        "id": "pGhIiD9PzER-",
        "outputId": "4cf0eef8-97ab-43b2-d5af-64407242f7d3",
        "colab": {
          "base_uri": "https://localhost:8080/"
        }
      },
      "source": [
        "y_test.argmax(axis=1)"
      ],
      "execution_count": 33,
      "outputs": [
        {
          "output_type": "execute_result",
          "data": {
            "text/plain": [
              "array([1, 0, 2, 1, 1, 0, 1, 2, 1, 1, 2, 0, 0, 0, 0, 1, 2, 1, 1, 2, 0, 2,\n",
              "       0, 2, 2, 2, 2, 2, 0, 0, 0, 0, 1, 0, 0, 2, 1, 0, 0, 0, 2, 1, 1, 0,\n",
              "       0, 1, 2, 2, 1, 2])"
            ]
          },
          "metadata": {
            "tags": []
          },
          "execution_count": 33
        }
      ]
    },
    {
      "cell_type": "code",
      "metadata": {
        "id": "KgLSC65RzKcf"
      },
      "source": [
        "from sklearn.metrics import confusion_matrix, classification_report, accuracy_score"
      ],
      "execution_count": 34,
      "outputs": []
    },
    {
      "cell_type": "code",
      "metadata": {
        "id": "JU6-Ouy0zSb_",
        "outputId": "71c59798-cb3d-4268-8493-01b553e28c7c",
        "colab": {
          "base_uri": "https://localhost:8080/"
        }
      },
      "source": [
        "confusion_matrix(y_test.argmax(axis=1),predictions)"
      ],
      "execution_count": 35,
      "outputs": [
        {
          "output_type": "execute_result",
          "data": {
            "text/plain": [
              "array([[19,  0,  0],\n",
              "       [ 0,  0, 15],\n",
              "       [ 0,  0, 16]])"
            ]
          },
          "metadata": {
            "tags": []
          },
          "execution_count": 35
        }
      ]
    },
    {
      "cell_type": "code",
      "metadata": {
        "id": "RQPFo0d3za9O",
        "outputId": "c1ed35b9-1790-4d6b-83d4-cbf06932cfab",
        "colab": {
          "base_uri": "https://localhost:8080/"
        }
      },
      "source": [
        "print(classification_report(y_test.argmax(axis=1), predictions))"
      ],
      "execution_count": 36,
      "outputs": [
        {
          "output_type": "stream",
          "text": [
            "              precision    recall  f1-score   support\n",
            "\n",
            "           0       1.00      1.00      1.00        19\n",
            "           1       0.00      0.00      0.00        15\n",
            "           2       0.52      1.00      0.68        16\n",
            "\n",
            "    accuracy                           0.70        50\n",
            "   macro avg       0.51      0.67      0.56        50\n",
            "weighted avg       0.55      0.70      0.60        50\n",
            "\n"
          ],
          "name": "stdout"
        },
        {
          "output_type": "stream",
          "text": [
            "/usr/local/lib/python3.6/dist-packages/sklearn/metrics/_classification.py:1272: UndefinedMetricWarning: Precision and F-score are ill-defined and being set to 0.0 in labels with no predicted samples. Use `zero_division` parameter to control this behavior.\n",
            "  _warn_prf(average, modifier, msg_start, len(result))\n"
          ],
          "name": "stderr"
        }
      ]
    },
    {
      "cell_type": "code",
      "metadata": {
        "id": "RcDjVKx3zr98",
        "outputId": "de69012c-1b3a-4cf0-862f-2c8210ed533f",
        "colab": {
          "base_uri": "https://localhost:8080/"
        }
      },
      "source": [
        "accuracy_score(y_test.argmax(axis=1), predictions)"
      ],
      "execution_count": 37,
      "outputs": [
        {
          "output_type": "execute_result",
          "data": {
            "text/plain": [
              "0.7"
            ]
          },
          "metadata": {
            "tags": []
          },
          "execution_count": 37
        }
      ]
    },
    {
      "cell_type": "code",
      "metadata": {
        "id": "nB3EqUej0P-m"
      },
      "source": [
        "model.save('myfirstmodel.h5')"
      ],
      "execution_count": 38,
      "outputs": []
    },
    {
      "cell_type": "code",
      "metadata": {
        "id": "YSd0LcZp1FY9"
      },
      "source": [
        "from keras.models import load_model"
      ],
      "execution_count": 39,
      "outputs": []
    },
    {
      "cell_type": "code",
      "metadata": {
        "id": "xz-IjaQl1PU2"
      },
      "source": [
        "new_model = load_model('myfirstmodel.h5')"
      ],
      "execution_count": 41,
      "outputs": []
    },
    {
      "cell_type": "code",
      "metadata": {
        "id": "34upBn4B1UVE",
        "outputId": "cb5fb924-8c7d-4f68-98ef-33fabbd58ee4",
        "colab": {
          "base_uri": "https://localhost:8080/"
        }
      },
      "source": [
        "new_model.predict_classes(scaled_X_test)"
      ],
      "execution_count": 42,
      "outputs": [
        {
          "output_type": "execute_result",
          "data": {
            "text/plain": [
              "array([2, 0, 2, 2, 2, 0, 2, 2, 2, 2, 2, 0, 0, 0, 0, 2, 2, 2, 2, 2, 0, 2,\n",
              "       0, 2, 2, 2, 2, 2, 0, 0, 0, 0, 2, 0, 0, 2, 2, 0, 0, 0, 2, 2, 2, 0,\n",
              "       0, 2, 2, 2, 2, 2])"
            ]
          },
          "metadata": {
            "tags": []
          },
          "execution_count": 42
        }
      ]
    },
    {
      "cell_type": "code",
      "metadata": {
        "id": "UsyZL1Pl1gC3"
      },
      "source": [
        "dfgsdfgdsfg"
      ],
      "execution_count": null,
      "outputs": []
    }
  ]
}